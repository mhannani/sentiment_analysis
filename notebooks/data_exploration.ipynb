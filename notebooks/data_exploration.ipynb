{
 "cells": [
  {
   "cell_type": "markdown",
   "metadata": {},
   "source": [
    "# Data Exploration of MAC"
   ]
  },
  {
   "cell_type": "code",
   "execution_count": 1,
   "metadata": {},
   "outputs": [
    {
     "data": {
      "text/plain": [
       "'/home/mhannani/Documents/sentiment_analysis'"
      ]
     },
     "execution_count": 1,
     "metadata": {},
     "output_type": "execute_result"
    }
   ],
   "source": [
    "import os\n",
    "import sys\n",
    "\n",
    "# Get the current working directory\n",
    "notebook_dir = os.getcwd()\n",
    "\n",
    "# Change the working directory to the root directory of the project\n",
    "os.chdir(\"../\")\n",
    "\n",
    "# move up to the parent directory(project root)\n",
    "sys.path.append(os.path.abspath(os.path.join(notebook_dir, \"..\")))\n",
    "\n",
    "os.getcwd()"
   ]
  },
  {
   "cell_type": "code",
   "execution_count": 29,
   "metadata": {},
   "outputs": [],
   "source": [
    "from pathlib import Path\n",
    "import pandas as pd\n",
    "import numpy as np\n",
    "import matplotlib.pyplot as plt\n",
    "import seaborn as sns\n",
    "\n",
    "from src.utils.parsers import parse_toml"
   ]
  },
  {
   "cell_type": "code",
   "execution_count": 30,
   "metadata": {},
   "outputs": [],
   "source": [
    "# configration filepath\n",
    "CONFIG_FILE = Path(\"configs/config.toml\")\n",
    "\n",
    "# read configuration object\n",
    "config = parse_toml(CONFIG_FILE)\n",
    "\n",
    "# useful variables\n",
    "data_root = Path(config['data']['root'])\n",
    "exernal_data = config['data']['external']\n",
    "raw_data = config['data']['raw']\n",
    "interim_data = config['data']['interim']\n",
    "processed_data = config['data']['processed']\n",
    "mac_csv_filename = config['data']['mac_csv_filename']"
   ]
  },
  {
   "cell_type": "code",
   "execution_count": 40,
   "metadata": {},
   "outputs": [],
   "source": [
    "# constructing the filepath of the corpus\n",
    "csv_filepath_raw_data = data_root / raw_data / mac_csv_filename\n",
    "\n",
    "# read csv file\n",
    "df = pd.read_csv(csv_filepath_raw_data.as_posix())\n",
    "\n",
    "# Droping the 'class' column\n",
    "df.drop(columns=['class'], inplace=True)\n",
    "\n",
    "# Remove rows where the 'type' column has the value 'mixed'\n",
    "df = df[df['type'] != 'mixed']"
   ]
  },
  {
   "cell_type": "code",
   "execution_count": 41,
   "metadata": {},
   "outputs": [
    {
     "data": {
      "text/html": [
       "<div>\n",
       "<style scoped>\n",
       "    .dataframe tbody tr th:only-of-type {\n",
       "        vertical-align: middle;\n",
       "    }\n",
       "\n",
       "    .dataframe tbody tr th {\n",
       "        vertical-align: top;\n",
       "    }\n",
       "\n",
       "    .dataframe thead th {\n",
       "        text-align: right;\n",
       "    }\n",
       "</style>\n",
       "<table border=\"1\" class=\"dataframe\">\n",
       "  <thead>\n",
       "    <tr style=\"text-align: right;\">\n",
       "      <th></th>\n",
       "      <th>tweets</th>\n",
       "      <th>type</th>\n",
       "    </tr>\n",
       "  </thead>\n",
       "  <tbody>\n",
       "    <tr>\n",
       "      <th>0</th>\n",
       "      <td>ماهي آرائكم متتبعي الكرام</td>\n",
       "      <td>neutral</td>\n",
       "    </tr>\n",
       "    <tr>\n",
       "      <th>1</th>\n",
       "      <td>عبقرية المدرب وروعة اللاعبين</td>\n",
       "      <td>positive</td>\n",
       "    </tr>\n",
       "    <tr>\n",
       "      <th>2</th>\n",
       "      <td>أمة عربية واحدة خالدة</td>\n",
       "      <td>positive</td>\n",
       "    </tr>\n",
       "    <tr>\n",
       "      <th>3</th>\n",
       "      <td>عاد إليكم من جديد وأخيرا درت جيم لهاد الصفحة</td>\n",
       "      <td>neutral</td>\n",
       "    </tr>\n",
       "    <tr>\n",
       "      <th>4</th>\n",
       "      <td>الله يخلف عليك سيدي محمد</td>\n",
       "      <td>positive</td>\n",
       "    </tr>\n",
       "    <tr>\n",
       "      <th>...</th>\n",
       "      <td>...</td>\n",
       "      <td>...</td>\n",
       "    </tr>\n",
       "    <tr>\n",
       "      <th>18082</th>\n",
       "      <td>ريالية و افتخر و نعلي راسي الفوق</td>\n",
       "      <td>positive</td>\n",
       "    </tr>\n",
       "    <tr>\n",
       "      <th>18083</th>\n",
       "      <td>ماكاين مشكل</td>\n",
       "      <td>positive</td>\n",
       "    </tr>\n",
       "    <tr>\n",
       "      <th>18084</th>\n",
       "      <td>سمح ليا ماقصدتش</td>\n",
       "      <td>positive</td>\n",
       "    </tr>\n",
       "    <tr>\n",
       "      <th>18085</th>\n",
       "      <td>الله يكمل عليها بالخير</td>\n",
       "      <td>positive</td>\n",
       "    </tr>\n",
       "    <tr>\n",
       "      <th>18086</th>\n",
       "      <td>يمكن و الله اعلم</td>\n",
       "      <td>neutral</td>\n",
       "    </tr>\n",
       "  </tbody>\n",
       "</table>\n",
       "<p>17444 rows × 2 columns</p>\n",
       "</div>"
      ],
      "text/plain": [
       "                                             tweets      type\n",
       "0                         ماهي آرائكم متتبعي الكرام   neutral\n",
       "1                      عبقرية المدرب وروعة اللاعبين  positive\n",
       "2                            أمة عربية واحدة خالدة   positive\n",
       "3      عاد إليكم من جديد وأخيرا درت جيم لهاد الصفحة   neutral\n",
       "4                          الله يخلف عليك سيدي محمد  positive\n",
       "...                                             ...       ...\n",
       "18082             ريالية و افتخر و نعلي راسي الفوق   positive\n",
       "18083                                   ماكاين مشكل  positive\n",
       "18084                              سمح ليا ماقصدتش   positive\n",
       "18085                        الله يكمل عليها بالخير  positive\n",
       "18086                              يمكن و الله اعلم   neutral\n",
       "\n",
       "[17444 rows x 2 columns]"
      ]
     },
     "execution_count": 41,
     "metadata": {},
     "output_type": "execute_result"
    }
   ],
   "source": [
    "df"
   ]
  },
  {
   "cell_type": "markdown",
   "metadata": {},
   "source": [
    "## Class frequency "
   ]
  },
  {
   "cell_type": "code",
   "execution_count": 49,
   "metadata": {},
   "outputs": [
    {
     "data": {
      "image/png": "[encoded data removed]",
      "text/plain": [
       "<Figure size 400x400 with 1 Axes>"
      ]
     },
     "metadata": {},
     "output_type": "display_data"
    }
   ],
   "source": [
    "# Calculate the frequency of each unique value in the 'type' column\n",
    "type_counts = df_filtered['type'].value_counts()\n",
    "\n",
    "# Create a pie chart using Matplotlib\n",
    "plt.figure(figsize=(4, 4))\n",
    "plt.pie(type_counts, labels=type_counts.index, autopct='%1.1f%%', startangle=140)\n",
    "plt.title('Distribution of Tweets Types')\n",
    "plt.axis('equal')  # Equal aspect ratio ensures that pie is drawn as a circle.\n",
    "\n",
    "# Show the pie chart\n",
    "plt.show()"
   ]
  },
  {
   "cell_type": "code",
   "execution_count": null,
   "metadata": {},
   "outputs": [],
   "source": []
  }
 ],
 "metadata": {
  "kernelspec": {
   "display_name": "Python 3 (ipykernel)",
   "language": "python",
   "name": "python3"
  },
  "language_info": {
   "codemirror_mode": {
    "name": "ipython",
    "version": 3
   },
   "file_extension": ".py",
   "mimetype": "text/x-python",
   "name": "python",
   "nbconvert_exporter": "python",
   "pygments_lexer": "ipython3",
   "version": "3.11.8"
  }
 },
 "nbformat": 4,
 "nbformat_minor": 4
}
