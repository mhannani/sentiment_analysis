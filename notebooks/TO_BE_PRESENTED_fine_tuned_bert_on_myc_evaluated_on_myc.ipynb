{
 "cells": [
  {
   "cell_type": "markdown",
   "metadata": {},
   "source": [
    "## BERT models trained on 80%/90% MYC dataset and evaluated on the the remaining set (20%/10%) MYC dataset"
   ]
  },
  {
   "cell_type": "code",
   "execution_count": null,
   "metadata": {},
   "outputs": [],
   "source": [
    "bert_model_finetuned_on_mac_results_on_myc_80 = {\n",
    "    \"bert-base-multilingual-cased\": {\n",
    "        'checkpoint': \"bert-base-multilingual-cased/checkpoint-17185\",\n",
    "        \"eval_accuracy\": 0.8240223463687151,\n",
    "        \"f1\": 0.8233753984116612,\n",
    "        \"precision\": 0.8230600750938674,\n",
    "        \"recall\": 0.8238651215474427,\n",
    "    },\n",
    "    \"bert-base-arabic\": {\n",
    "        'checkpoint': \"bert-base-arabic/checkpoint-1414\",\n",
    "        \"accuracy\": 0.8355058969584109,\n",
    "        \"f1\": 0.8354561912202447,\n",
    "        \"precision\": 0.8372168211123873,\n",
    "        \"recall\": 0.8384746304202608,\n",
    "    },\n",
    "    \"darijabert-arabizi\": {\n",
    "        'checkpoint': \"darijabert-arabizi/checkpoint-1010\",\n",
    "        \"eval_accuracy\": 0.8578522656734947,\n",
    "        \"eval_f1\": 0.8575985535938784,\n",
    "        \"eval_loss\": 0.7308529019355774,\n",
    "        \"eval_precision\": 0.8574357464457305,\n",
    "        \"eval_recall\": 0.8591676105834858,\n",
    "    },\n",
    "    \"DarijaBERT\": {\n",
    "        'checkpoint': \"DarijaBERT/checkpoint-404\",\n",
    "        \"eval_accuracy\": 0.8504034761018001,\n",
    "        \"eval_f1\": 0.8502025587999259,\n",
    "        \"eval_loss\": 0.3632583022117615,\n",
    "        \"eval_precision\": 0.8503177853855328,\n",
    "        \"eval_recall\": 0.8520786500537306,\n",
    "    },\n",
    "    \"bert-base-arabertv2\": {\n",
    "        'checkpoint': \"bert-base-arabertv2/checkpoint-5656\",\n",
    "        \"eval_accuracy\": 0.8485412787088765,\n",
    "        \"f1\": 0.8481283794356451,\n",
    "        \"loss\": 1.2586467266082764,\n",
    "        \"precision\": 0.8477460119078617,\n",
    "        \"recall\": 0.8491034242397839,\n",
    "        }\n",
    "}"
   ]
  },
  {
   "cell_type": "code",
   "execution_count": null,
   "metadata": {},
   "outputs": [],
   "source": [
    "bert_model_finetuned_on_mac_results_on_myc_90 = {\n",
    "    \"bert-base-multilingual-cased\": {\n",
    "        'checkpoint': \"bert-base-multilingual-cased/checkpoint-1816\",\n",
    "        \"eaccuracy\": 0.8249534450651769,\n",
    "        \"f1\": 0.8249236958934517,\n",
    "        \"precision\": 0.8272427096299911,\n",
    "        \"recall\": 0.8282434115540244,\n",
    "    },\n",
    "    \"bert-base-arabic\": {\n",
    "        'checkpoint': \"bert-base-arabic/checkpoint-681\",\n",
    "        \"eval_accuracy\": 0.8355058969584109,\n",
    "        \"eval_f1\": 0.8347632832067104,\n",
    "        \"eval_loss\": 0.5109553933143616,\n",
    "        \"eval_precision\": 0.8345833075447175,\n",
    "        \"eval_recall\": 0.8349751519695627,\n",
    "    },\n",
    "    \n",
    "    \"darijabert-arabizi\": {\n",
    "        'checkpoint': \"darijabert-arabizi/checkpoint-7945\",\n",
    "        \"accuracy\": 0.851024208566108,\n",
    "        \"f1\": 0.8506830947187602,\n",
    "        \"loss\": 1.3694322109222412,\n",
    "        \"precision\": 0.8503654869303724,\n",
    "        \"recall\": 0.8519536066823232,\n",
    "    },\n",
    "    \"DarijaBERT\": {\n",
    "        'checkpoint': \"DarijaBERT/checkpoint-14239\",\n",
    "        'accuracy': 0.6189618775611573, \n",
    "        'precision': 0.6813790067106706, \n",
    "        'recall': 0.637299477516956, \n",
    "        'f1': 0.600870422702932\n",
    "    },\n",
    "    \"bert-base-arabertv2\": {\n",
    "        'checkpoint': \"bert-base-arabertv2/checkpoint-8347\",\n",
    "        'accuracy': 0.560163914069291, \n",
    "        'precision': 0.5944748608070536, \n",
    "        'recall': 0.576292962461424, \n",
    "        'f1': 0.5443771407643445\n",
    "    }\n",
    "}"
   ]
  },
  {
   "cell_type": "markdown",
   "metadata": {},
   "source": [
    "# adding the preprocessing \n",
    "# double check the scores of "
   ]
  },
  {
   "cell_type": "code",
   "execution_count": null,
   "metadata": {},
   "outputs": [],
   "source": []
  }
 ],
 "metadata": {
  "language_info": {
   "name": "python"
  }
 },
 "nbformat": 4,
 "nbformat_minor": 2
}
