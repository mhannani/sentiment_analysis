{
 "cells": [
  {
   "cell_type": "code",
   "execution_count": null,
   "metadata": {},
   "outputs": [],
   "source": [
    "{\n",
    "    \"bert-base-multilingual-cased\": \"bert-base-multilingual-cased/checkpoint-17185\",\n",
    "    # {'accuracy': 0.560163914069291, 'precision': 0.5944748608070536, 'recall': 0.576292962461424, 'f1': 0.5443771407643445}\n",
    "    \"bert-base-arabic\": \"bert-base-arabic/checkpoint-2946\",\n",
    "    # {'accuracy': 0.5807773500558798, 'precision': 0.6569261617927782, 'recall': 0.6023387712640138, 'f1': 0.5501892107367392}\n",
    "    \"darijabert-arabizi\": \"darijabert-arabizi/checkpoint-10311\",\n",
    "    # {'accuracy': 0.5828883645846269, 'precision': 0.6243462628947318, 'recall': 0.5994429172260548, 'f1': 0.5671833148678399}\n",
    "    \"DarijaBERT\": \"DarijaBERT/checkpoint-14239\",\n",
    "    # {'accuracy': 0.6189618775611573, 'precision': 0.6813790067106706, 'recall': 0.637299477516956, 'f1': 0.600870422702932}\n",
    "    \"bert-base-arabertv2\": \"bert-base-arabertv2/checkpoint-8347\",\n",
    "    # {'accuracy': 0.5995281261641624, 'precision': 0.6392264109667269, 'recall': 0.615076663780127, 'f1': 0.5868442368207847}\n",
    "}"
   ]
  },
  {
   "cell_type": "code",
   "execution_count": null,
   "metadata": {},
   "outputs": [],
   "source": []
  }
 ],
 "metadata": {
  "language_info": {
   "name": "python"
  }
 },
 "nbformat": 4,
 "nbformat_minor": 2
}
