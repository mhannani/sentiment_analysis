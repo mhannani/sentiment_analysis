{
 "cells": [
  {
   "cell_type": "code",
   "execution_count": 1,
   "metadata": {},
   "outputs": [],
   "source": [
    "%load_ext autoreload\n",
    "%autoreload 2"
   ]
  },
  {
   "cell_type": "markdown",
   "metadata": {},
   "source": [
    "# FastText model results on Sentiment Analysis"
   ]
  },
  {
   "cell_type": "code",
   "execution_count": 2,
   "metadata": {},
   "outputs": [
    {
     "data": {
      "text/plain": [
       "'c:\\\\Users\\\\mhannani\\\\Documents\\\\sentiment_analysis'"
      ]
     },
     "execution_count": 2,
     "metadata": {},
     "output_type": "execute_result"
    }
   ],
   "source": [
    "import os\n",
    "import sys\n",
    "\n",
    "# Get the current working directory\n",
    "notebook_dir = os.getcwd()\n",
    "\n",
    "# Change the working directory to the root directory of the project\n",
    "os.chdir(\"../\")\n",
    "\n",
    "# move up to the parent directory(project root)\n",
    "sys.path.append(os.path.abspath(os.path.join(notebook_dir, \"..\")))\n",
    "\n",
    "os.getcwd()"
   ]
  },
  {
   "cell_type": "code",
   "execution_count": 3,
   "metadata": {},
   "outputs": [],
   "source": [
    "from pathlib import Path\n",
    "import pandas as pd\n",
    "import numpy as np\n",
    "import matplotlib.pyplot as plt\n",
    "import seaborn as sns\n",
    "\n",
    "from src.utils.readers import read_df\n",
    "from src.utils.parsers import parse_toml\n",
    "from src.utils.counters import count_nans\n",
    "\n",
    "from src.utils.visualizers import Visualizer\n",
    "from src.utils.evaluator import Evaluator"
   ]
  },
  {
   "cell_type": "code",
   "execution_count": 4,
   "metadata": {},
   "outputs": [],
   "source": [
    "# configration filepath\n",
    "CONFIG_FILE = Path(\"configs/config.toml\")\n",
    "\n",
    "# read configuration object\n",
    "config = parse_toml(CONFIG_FILE)\n",
    "\n",
    "# useful variables\n",
    "data_root = Path(config['data']['root'])\n",
    "exernal_data = config['data']['external']\n",
    "raw_data = config['data']['raw']\n",
    "interim_data = config['data']['interim']\n",
    "processed_data = config['data']['processed']\n",
    "mac_csv_filename = config['data']['mac_csv_filename']\n",
    "\n",
    "# output root\n",
    "mac_output_root = Path(config['output']['root'])\n",
    "csv_gpt_results_mac_filename = config['output']['mac_tsv_predictions']\n",
    "\n",
    "\n",
    "# constructing the filepath of the corpus\n",
    "csv_filepath_raw_data = data_root / raw_data / mac_csv_filename\n",
    "\n",
    "# constructing the filepath of the results of mac dataset\n",
    "tsv_gpt_results_mac_filepath = mac_output_root / csv_gpt_results_mac_filename"
   ]
  },
  {
   "cell_type": "markdown",
   "metadata": {},
   "source": [
    "## Full dataset"
   ]
  },
  {
   "cell_type": "code",
   "execution_count": 5,
   "metadata": {},
   "outputs": [],
   "source": [
    "df = read_df(tsv_gpt_results_mac_filepath, sep = \"\\t\")"
   ]
  },
  {
   "cell_type": "code",
   "execution_count": 6,
   "metadata": {},
   "outputs": [
    {
     "data": {
      "text/html": [
       "<div>\n",
       "<style scoped>\n",
       "    .dataframe tbody tr th:only-of-type {\n",
       "        vertical-align: middle;\n",
       "    }\n",
       "\n",
       "    .dataframe tbody tr th {\n",
       "        vertical-align: top;\n",
       "    }\n",
       "\n",
       "    .dataframe thead th {\n",
       "        text-align: right;\n",
       "    }\n",
       "</style>\n",
       "<table border=\"1\" class=\"dataframe\">\n",
       "  <thead>\n",
       "    <tr style=\"text-align: right;\">\n",
       "      <th></th>\n",
       "      <th>key</th>\n",
       "      <th>tweets</th>\n",
       "      <th>gt_type</th>\n",
       "      <th>pred_type</th>\n",
       "      <th>class_name</th>\n",
       "    </tr>\n",
       "  </thead>\n",
       "  <tbody>\n",
       "    <tr>\n",
       "      <th>0</th>\n",
       "      <td>1</td>\n",
       "      <td>ماهي آرائكم متتبعي الكرام</td>\n",
       "      <td>0</td>\n",
       "      <td>0.0</td>\n",
       "      <td>0.0</td>\n",
       "    </tr>\n",
       "    <tr>\n",
       "      <th>1</th>\n",
       "      <td>2</td>\n",
       "      <td>عبقرية المدرب وروعة اللاعبين</td>\n",
       "      <td>1</td>\n",
       "      <td>1.0</td>\n",
       "      <td>0.0</td>\n",
       "    </tr>\n",
       "    <tr>\n",
       "      <th>2</th>\n",
       "      <td>3</td>\n",
       "      <td>أمة عربية واحدة خالدة</td>\n",
       "      <td>1</td>\n",
       "      <td>1.0</td>\n",
       "      <td>0.0</td>\n",
       "    </tr>\n",
       "    <tr>\n",
       "      <th>3</th>\n",
       "      <td>1</td>\n",
       "      <td>ماهي آرائكم متتبعي الكرام</td>\n",
       "      <td>0</td>\n",
       "      <td>0.0</td>\n",
       "      <td>0.0</td>\n",
       "    </tr>\n",
       "    <tr>\n",
       "      <th>4</th>\n",
       "      <td>2</td>\n",
       "      <td>عبقرية المدرب وروعة اللاعبين</td>\n",
       "      <td>1</td>\n",
       "      <td>1.0</td>\n",
       "      <td>0.0</td>\n",
       "    </tr>\n",
       "    <tr>\n",
       "      <th>...</th>\n",
       "      <td>...</td>\n",
       "      <td>...</td>\n",
       "      <td>...</td>\n",
       "      <td>...</td>\n",
       "      <td>...</td>\n",
       "    </tr>\n",
       "    <tr>\n",
       "      <th>17439</th>\n",
       "      <td>17437</td>\n",
       "      <td>ريالية و افتخر و نعلي راسي الفوق</td>\n",
       "      <td>1</td>\n",
       "      <td>1.0</td>\n",
       "      <td>1.0</td>\n",
       "    </tr>\n",
       "    <tr>\n",
       "      <th>17440</th>\n",
       "      <td>17438</td>\n",
       "      <td>ماكاين مشكل</td>\n",
       "      <td>1</td>\n",
       "      <td>-1.0</td>\n",
       "      <td>1.0</td>\n",
       "    </tr>\n",
       "    <tr>\n",
       "      <th>17441</th>\n",
       "      <td>17439</td>\n",
       "      <td>سمح ليا ماقصدتش</td>\n",
       "      <td>1</td>\n",
       "      <td>0.0</td>\n",
       "      <td>1.0</td>\n",
       "    </tr>\n",
       "    <tr>\n",
       "      <th>17442</th>\n",
       "      <td>17440</td>\n",
       "      <td>الله يكمل عليها بالخير</td>\n",
       "      <td>1</td>\n",
       "      <td>1.0</td>\n",
       "      <td>1.0</td>\n",
       "    </tr>\n",
       "    <tr>\n",
       "      <th>17443</th>\n",
       "      <td>17441</td>\n",
       "      <td>يمكن و الله اعلم</td>\n",
       "      <td>0</td>\n",
       "      <td>0.0</td>\n",
       "      <td>1.0</td>\n",
       "    </tr>\n",
       "  </tbody>\n",
       "</table>\n",
       "<p>17444 rows × 5 columns</p>\n",
       "</div>"
      ],
      "text/plain": [
       "         key                            tweets  gt_type  pred_type  class_name\n",
       "0          1         ماهي آرائكم متتبعي الكرام        0        0.0         0.0\n",
       "1          2      عبقرية المدرب وروعة اللاعبين        1        1.0         0.0\n",
       "2          3             أمة عربية واحدة خالدة        1        1.0         0.0\n",
       "3          1         ماهي آرائكم متتبعي الكرام        0        0.0         0.0\n",
       "4          2      عبقرية المدرب وروعة اللاعبين        1        1.0         0.0\n",
       "...      ...                               ...      ...        ...         ...\n",
       "17439  17437  ريالية و افتخر و نعلي راسي الفوق        1        1.0         1.0\n",
       "17440  17438                       ماكاين مشكل        1       -1.0         1.0\n",
       "17441  17439                   سمح ليا ماقصدتش        1        0.0         1.0\n",
       "17442  17440            الله يكمل عليها بالخير        1        1.0         1.0\n",
       "17443  17441                  يمكن و الله اعلم        0        0.0         1.0\n",
       "\n",
       "[17444 rows x 5 columns]"
      ]
     },
     "execution_count": 6,
     "metadata": {},
     "output_type": "execute_result"
    }
   ],
   "source": [
    "df"
   ]
  },
  {
   "cell_type": "code",
   "execution_count": 7,
   "metadata": {},
   "outputs": [],
   "source": [
    "gt_type_column_nans_count = count_nans(df, \"gt_type\")\n",
    "pred_type_column_nans_count = count_nans(df, \"pred_type\")\n",
    "class_name_column_nans_count = count_nans(df, \"class_name\")"
   ]
  },
  {
   "cell_type": "code",
   "execution_count": 8,
   "metadata": {},
   "outputs": [
    {
     "data": {
      "text/plain": [
       "(0, 0, 0)"
      ]
     },
     "execution_count": 8,
     "metadata": {},
     "output_type": "execute_result"
    }
   ],
   "source": [
    "gt_type_column_nans_count, pred_type_column_nans_count, class_name_column_nans_count"
   ]
  },
  {
   "cell_type": "code",
   "execution_count": 9,
   "metadata": {},
   "outputs": [],
   "source": [
    "df['gt_type'] = df['gt_type'].astype(float)"
   ]
  },
  {
   "cell_type": "code",
   "execution_count": 10,
   "metadata": {},
   "outputs": [
    {
     "data": {
      "text/html": [
       "<div>\n",
       "<style scoped>\n",
       "    .dataframe tbody tr th:only-of-type {\n",
       "        vertical-align: middle;\n",
       "    }\n",
       "\n",
       "    .dataframe tbody tr th {\n",
       "        vertical-align: top;\n",
       "    }\n",
       "\n",
       "    .dataframe thead th {\n",
       "        text-align: right;\n",
       "    }\n",
       "</style>\n",
       "<table border=\"1\" class=\"dataframe\">\n",
       "  <thead>\n",
       "    <tr style=\"text-align: right;\">\n",
       "      <th></th>\n",
       "      <th>key</th>\n",
       "      <th>tweets</th>\n",
       "      <th>gt_type</th>\n",
       "      <th>pred_type</th>\n",
       "      <th>class_name</th>\n",
       "    </tr>\n",
       "  </thead>\n",
       "  <tbody>\n",
       "    <tr>\n",
       "      <th>0</th>\n",
       "      <td>1</td>\n",
       "      <td>ماهي آرائكم متتبعي الكرام</td>\n",
       "      <td>0.0</td>\n",
       "      <td>0.0</td>\n",
       "      <td>0.0</td>\n",
       "    </tr>\n",
       "    <tr>\n",
       "      <th>1</th>\n",
       "      <td>2</td>\n",
       "      <td>عبقرية المدرب وروعة اللاعبين</td>\n",
       "      <td>1.0</td>\n",
       "      <td>1.0</td>\n",
       "      <td>0.0</td>\n",
       "    </tr>\n",
       "    <tr>\n",
       "      <th>2</th>\n",
       "      <td>3</td>\n",
       "      <td>أمة عربية واحدة خالدة</td>\n",
       "      <td>1.0</td>\n",
       "      <td>1.0</td>\n",
       "      <td>0.0</td>\n",
       "    </tr>\n",
       "    <tr>\n",
       "      <th>3</th>\n",
       "      <td>1</td>\n",
       "      <td>ماهي آرائكم متتبعي الكرام</td>\n",
       "      <td>0.0</td>\n",
       "      <td>0.0</td>\n",
       "      <td>0.0</td>\n",
       "    </tr>\n",
       "    <tr>\n",
       "      <th>4</th>\n",
       "      <td>2</td>\n",
       "      <td>عبقرية المدرب وروعة اللاعبين</td>\n",
       "      <td>1.0</td>\n",
       "      <td>1.0</td>\n",
       "      <td>0.0</td>\n",
       "    </tr>\n",
       "  </tbody>\n",
       "</table>\n",
       "</div>"
      ],
      "text/plain": [
       "   key                        tweets  gt_type  pred_type  class_name\n",
       "0    1     ماهي آرائكم متتبعي الكرام      0.0        0.0         0.0\n",
       "1    2  عبقرية المدرب وروعة اللاعبين      1.0        1.0         0.0\n",
       "2    3         أمة عربية واحدة خالدة      1.0        1.0         0.0\n",
       "3    1     ماهي آرائكم متتبعي الكرام      0.0        0.0         0.0\n",
       "4    2  عبقرية المدرب وروعة اللاعبين      1.0        1.0         0.0"
      ]
     },
     "execution_count": 10,
     "metadata": {},
     "output_type": "execute_result"
    }
   ],
   "source": [
    "df.head()"
   ]
  },
  {
   "cell_type": "code",
   "execution_count": 11,
   "metadata": {},
   "outputs": [
    {
     "data": {
      "image/png": "[encoded data removed]",
      "text/plain": [
       "<Figure size 400x400 with 1 Axes>"
      ]
     },
     "metadata": {},
     "output_type": "display_data"
    }
   ],
   "source": [
    "from src.utils.visualizers import visualize_frequencies\n",
    "\n",
    "\n",
    "visualize_frequencies(df, 'class_name')"
   ]
  },
  {
   "cell_type": "code",
   "execution_count": 12,
   "metadata": {},
   "outputs": [
    {
     "data": {
      "image/png": "[encoded data removed]",
      "text/plain": [
       "<Figure size 400x400 with 1 Axes>"
      ]
     },
     "metadata": {},
     "output_type": "display_data"
    }
   ],
   "source": [
    "visualize_frequencies(df, 'gt_type')"
   ]
  },
  {
   "cell_type": "markdown",
   "metadata": {},
   "source": [
    "## Evaluation & Visualization"
   ]
  },
  {
   "cell_type": "code",
   "execution_count": 3,
   "metadata": {},
   "outputs": [],
   "source": [
    "import matplotlib.pyplot as plt"
   ]
  },
  {
   "cell_type": "code",
   "execution_count": 5,
   "metadata": {},
   "outputs": [],
   "source": [
    "fasttext_scores = {\n",
    "    \"accuracy_score\": 0.8371559381484985,\n",
    "    \"f1_score_score\": 0.7908220887184143,\n",
    "    \"precision_score\": 0.8147028088569641,\n",
    "    \"recall_score\": 0.8013315200805664,\n",
    "}"
   ]
  },
  {
   "cell_type": "code",
   "execution_count": 6,
   "metadata": {},
   "outputs": [
    {
     "data": {
      "image/png": "[encoded data removed]",
      "text/plain": [
       "<Figure size 1000x600 with 1 Axes>"
      ]
     },
     "metadata": {},
     "output_type": "display_data"
    }
   ],
   "source": [
    "# Extracting keys and values\n",
    "metrics = list(fasttext_scores.keys())\n",
    "values = list(fasttext_scores.values())\n",
    "\n",
    "# Plotting\n",
    "plt.figure(figsize=(10, 6))\n",
    "plt.bar(metrics, values, color='skyblue')\n",
    "plt.xlabel('Metric')\n",
    "plt.ylabel('Score')\n",
    "plt.title('Performance Metrics for FastText Model')\n",
    "plt.ylim(0, 1)  # Set y-axis limit to ensure proper visualization of scores\n",
    "plt.show()"
   ]
  },
  {
   "cell_type": "code",
   "execution_count": null,
   "metadata": {},
   "outputs": [],
   "source": [
    "# Trained on MYC dataset(train size is 80 %)\n",
    "0.790813148021698,100,0.5252472758293152,0.5264782309532166,0.5281867980957031,20200,0.514629602432251\n"
   ]
  },
  {
   "cell_type": "code",
   "execution_count": null,
   "metadata": {},
   "outputs": [],
   "source": [
    "fasttext_scores_myc_80_100_epoch = {\n",
    "    \"accuracy_score\": 0.790813148021698,\n",
    "    \"f1_score_score\": 0.5252472758293152,\n",
    "    \"precision_score\": 0.5264782309532166,\n",
    "    \"recall_score\": 0.5281867980957031,\n",
    "}"
   ]
  },
  {
   "cell_type": "code",
   "execution_count": null,
   "metadata": {},
   "outputs": [],
   "source": []
  }
 ],
 "metadata": {
  "kernelspec": {
   "display_name": "Python 3 (ipykernel)",
   "language": "python",
   "name": "python3"
  },
  "language_info": {
   "codemirror_mode": {
    "name": "ipython",
    "version": 3
   },
   "file_extension": ".py",
   "mimetype": "text/x-python",
   "name": "python",
   "nbconvert_exporter": "python",
   "pygments_lexer": "ipython3",
   "version": "3.11.8"
  }
 },
 "nbformat": 4,
 "nbformat_minor": 4
}
