{
 "cells": [
  {
   "cell_type": "code",
   "execution_count": 2,
   "metadata": {},
   "outputs": [],
   "source": [
    "%load_ext autoreload\n",
    "%autoreload 2"
   ]
  },
  {
   "cell_type": "markdown",
   "metadata": {},
   "source": [
    "# Evaluation results of GPT model on MYC dataset"
   ]
  },
  {
   "cell_type": "code",
   "execution_count": 3,
   "metadata": {},
   "outputs": [
    {
     "data": {
      "text/plain": [
       "'c:\\\\Users\\\\mhannani\\\\Documents\\\\sentiment_analysis'"
      ]
     },
     "execution_count": 3,
     "metadata": {},
     "output_type": "execute_result"
    }
   ],
   "source": [
    "import os\n",
    "import sys\n",
    "\n",
    "# Get the current working directory\n",
    "notebook_dir = os.getcwd()\n",
    "\n",
    "# Change the working directory to the root directory of the project\n",
    "os.chdir(\"../\")\n",
    "\n",
    "# move up to the parent directory(project root)\n",
    "sys.path.append(os.path.abspath(os.path.join(notebook_dir, \"..\")))\n",
    "\n",
    "os.getcwd()"
   ]
  },
  {
   "cell_type": "code",
   "execution_count": 4,
   "metadata": {},
   "outputs": [],
   "source": [
    "from pathlib import Path\n",
    "import pandas as pd\n",
    "import numpy as np\n",
    "import matplotlib.pyplot as plt\n",
    "import seaborn as sns\n",
    "\n",
    "from src.utils.readers import read_df\n",
    "from src.utils.parsers import parse_toml\n",
    "from src.utils.counters import count_nans\n",
    "\n",
    "from src.utils.visualizers import MYCVisualizer\n",
    "from src.utils.evaluator import MYCEvaluator"
   ]
  },
  {
   "cell_type": "code",
   "execution_count": 5,
   "metadata": {},
   "outputs": [],
   "source": [
    "# configration filepath\n",
    "CONFIG_FILE = Path(\"configs/myc_config.toml\")\n",
    "\n",
    "# read configuration object\n",
    "config = parse_toml(CONFIG_FILE)\n",
    "\n",
    "# useful variables\n",
    "data_root = Path(config['data']['root'])\n",
    "exernal_data = config['data']['external']\n",
    "raw_data = config['data']['raw']\n",
    "interim_data = config['data']['interim']\n",
    "processed_data = config['data']['processed']\n",
    "preprocessed_corpus_csv_filename = config['data']['preprocessed_corpus_csv']\n",
    "\n",
    "# output root\n",
    "mac_output_root = Path(config['output']['root'])\n",
    "tsv_corpus_predictions_filename = config['output']['tsv_corpus_predictions']\n",
    "\n",
    "\n",
    "# constructing the filepath of the corpus\n",
    "csv_filepath_raw_data = data_root / raw_data / preprocessed_corpus_csv_filename\n",
    "\n",
    "# constructing the filepath of the results of mac dataset\n",
    "tsv_gpt_results_myc_filepath = mac_output_root / tsv_corpus_predictions_filename"
   ]
  },
  {
   "cell_type": "markdown",
   "metadata": {},
   "source": [
    "## Full dataset"
   ]
  },
  {
   "cell_type": "code",
   "execution_count": 6,
   "metadata": {},
   "outputs": [],
   "source": [
    "df = read_df(tsv_gpt_results_myc_filepath,)"
   ]
  },
  {
   "cell_type": "code",
   "execution_count": 7,
   "metadata": {},
   "outputs": [
    {
     "data": {
      "text/html": [
       "<div>\n",
       "<style scoped>\n",
       "    .dataframe tbody tr th:only-of-type {\n",
       "        vertical-align: middle;\n",
       "    }\n",
       "\n",
       "    .dataframe tbody tr th {\n",
       "        vertical-align: top;\n",
       "    }\n",
       "\n",
       "    .dataframe thead th {\n",
       "        text-align: right;\n",
       "    }\n",
       "</style>\n",
       "<table border=\"1\" class=\"dataframe\">\n",
       "  <thead>\n",
       "    <tr style=\"text-align: right;\">\n",
       "      <th></th>\n",
       "      <th>key</th>\n",
       "      <th>tweets</th>\n",
       "      <th>gt_type</th>\n",
       "      <th>pred_type</th>\n",
       "    </tr>\n",
       "  </thead>\n",
       "  <tbody>\n",
       "    <tr>\n",
       "      <th>0</th>\n",
       "      <td>1</td>\n",
       "      <td>انسان عبارة عن دواء للإكتئاب</td>\n",
       "      <td>1.0</td>\n",
       "      <td>1.0</td>\n",
       "    </tr>\n",
       "    <tr>\n",
       "      <th>1</th>\n",
       "      <td>2</td>\n",
       "      <td>نحبك يا فنان وااااااحسااااااااان</td>\n",
       "      <td>1.0</td>\n",
       "      <td>1.0</td>\n",
       "    </tr>\n",
       "    <tr>\n",
       "      <th>2</th>\n",
       "      <td>3</td>\n",
       "      <td>stream zuin thank you ilyas</td>\n",
       "      <td>1.0</td>\n",
       "      <td>1.0</td>\n",
       "    </tr>\n",
       "    <tr>\n",
       "      <th>3</th>\n",
       "      <td>4</td>\n",
       "      <td>وحق الرب الى دوا د الاكتئاب الأسطورة</td>\n",
       "      <td>1.0</td>\n",
       "      <td>1.0</td>\n",
       "    </tr>\n",
       "    <tr>\n",
       "      <th>4</th>\n",
       "      <td>5</td>\n",
       "      <td>اسطورة بكل ما تحمل الكلمة من معنى</td>\n",
       "      <td>1.0</td>\n",
       "      <td>1.0</td>\n",
       "    </tr>\n",
       "    <tr>\n",
       "      <th>...</th>\n",
       "      <td>...</td>\n",
       "      <td>...</td>\n",
       "      <td>...</td>\n",
       "      <td>...</td>\n",
       "    </tr>\n",
       "    <tr>\n",
       "      <th>16099</th>\n",
       "      <td>16102</td>\n",
       "      <td>دخلو وتابوناو معايا برجولة راني ها ولد الشعب و...</td>\n",
       "      <td>1.0</td>\n",
       "      <td>0.0</td>\n",
       "    </tr>\n",
       "    <tr>\n",
       "      <th>16100</th>\n",
       "      <td>16103</td>\n",
       "      <td>سينا version 2 ابابا على سلوكية</td>\n",
       "      <td>1.0</td>\n",
       "      <td>0.0</td>\n",
       "    </tr>\n",
       "    <tr>\n",
       "      <th>16101</th>\n",
       "      <td>16104</td>\n",
       "      <td>افضل فيديو بتاريخ تضحك تخسر</td>\n",
       "      <td>1.0</td>\n",
       "      <td>1.0</td>\n",
       "    </tr>\n",
       "    <tr>\n",
       "      <th>16102</th>\n",
       "      <td>16105</td>\n",
       "      <td>غادي نجاوبك على سؤالك أسي الخراز يمكن معندناش ...</td>\n",
       "      <td>0.0</td>\n",
       "      <td>0.0</td>\n",
       "    </tr>\n",
       "    <tr>\n",
       "      <th>16103</th>\n",
       "      <td>16106</td>\n",
       "      <td>بكاتني بقات فيا مسكينة الله يشوف من حالك اختي ...</td>\n",
       "      <td>0.0</td>\n",
       "      <td>0.0</td>\n",
       "    </tr>\n",
       "  </tbody>\n",
       "</table>\n",
       "<p>16104 rows × 4 columns</p>\n",
       "</div>"
      ],
      "text/plain": [
       "         key                                             tweets  gt_type  \\\n",
       "0          1                       انسان عبارة عن دواء للإكتئاب      1.0   \n",
       "1          2                   نحبك يا فنان وااااااحسااااااااان      1.0   \n",
       "2          3                        stream zuin thank you ilyas      1.0   \n",
       "3          4               وحق الرب الى دوا د الاكتئاب الأسطورة      1.0   \n",
       "4          5                  اسطورة بكل ما تحمل الكلمة من معنى      1.0   \n",
       "...      ...                                                ...      ...   \n",
       "16099  16102  دخلو وتابوناو معايا برجولة راني ها ولد الشعب و...      1.0   \n",
       "16100  16103                    سينا version 2 ابابا على سلوكية      1.0   \n",
       "16101  16104                        افضل فيديو بتاريخ تضحك تخسر      1.0   \n",
       "16102  16105  غادي نجاوبك على سؤالك أسي الخراز يمكن معندناش ...      0.0   \n",
       "16103  16106  بكاتني بقات فيا مسكينة الله يشوف من حالك اختي ...      0.0   \n",
       "\n",
       "       pred_type  \n",
       "0            1.0  \n",
       "1            1.0  \n",
       "2            1.0  \n",
       "3            1.0  \n",
       "4            1.0  \n",
       "...          ...  \n",
       "16099        0.0  \n",
       "16100        0.0  \n",
       "16101        1.0  \n",
       "16102        0.0  \n",
       "16103        0.0  \n",
       "\n",
       "[16104 rows x 4 columns]"
      ]
     },
     "execution_count": 7,
     "metadata": {},
     "output_type": "execute_result"
    }
   ],
   "source": [
    "df"
   ]
  },
  {
   "cell_type": "code",
   "execution_count": 8,
   "metadata": {},
   "outputs": [],
   "source": [
    "gt_type_column_nans_count = count_nans(df, \"gt_type\")\n",
    "pred_type_column_nans_count = count_nans(df, \"pred_type\")"
   ]
  },
  {
   "cell_type": "code",
   "execution_count": 9,
   "metadata": {},
   "outputs": [
    {
     "data": {
      "text/plain": [
       "(0, 0)"
      ]
     },
     "execution_count": 9,
     "metadata": {},
     "output_type": "execute_result"
    }
   ],
   "source": [
    "gt_type_column_nans_count, pred_type_column_nans_count"
   ]
  },
  {
   "cell_type": "code",
   "execution_count": 10,
   "metadata": {},
   "outputs": [
    {
     "data": {
      "text/html": [
       "<div>\n",
       "<style scoped>\n",
       "    .dataframe tbody tr th:only-of-type {\n",
       "        vertical-align: middle;\n",
       "    }\n",
       "\n",
       "    .dataframe tbody tr th {\n",
       "        vertical-align: top;\n",
       "    }\n",
       "\n",
       "    .dataframe thead th {\n",
       "        text-align: right;\n",
       "    }\n",
       "</style>\n",
       "<table border=\"1\" class=\"dataframe\">\n",
       "  <thead>\n",
       "    <tr style=\"text-align: right;\">\n",
       "      <th></th>\n",
       "      <th>key</th>\n",
       "      <th>tweets</th>\n",
       "      <th>gt_type</th>\n",
       "      <th>pred_type</th>\n",
       "    </tr>\n",
       "  </thead>\n",
       "  <tbody>\n",
       "    <tr>\n",
       "      <th>0</th>\n",
       "      <td>1</td>\n",
       "      <td>انسان عبارة عن دواء للإكتئاب</td>\n",
       "      <td>1.0</td>\n",
       "      <td>1.0</td>\n",
       "    </tr>\n",
       "    <tr>\n",
       "      <th>1</th>\n",
       "      <td>2</td>\n",
       "      <td>نحبك يا فنان وااااااحسااااااااان</td>\n",
       "      <td>1.0</td>\n",
       "      <td>1.0</td>\n",
       "    </tr>\n",
       "    <tr>\n",
       "      <th>2</th>\n",
       "      <td>3</td>\n",
       "      <td>stream zuin thank you ilyas</td>\n",
       "      <td>1.0</td>\n",
       "      <td>1.0</td>\n",
       "    </tr>\n",
       "    <tr>\n",
       "      <th>3</th>\n",
       "      <td>4</td>\n",
       "      <td>وحق الرب الى دوا د الاكتئاب الأسطورة</td>\n",
       "      <td>1.0</td>\n",
       "      <td>1.0</td>\n",
       "    </tr>\n",
       "    <tr>\n",
       "      <th>4</th>\n",
       "      <td>5</td>\n",
       "      <td>اسطورة بكل ما تحمل الكلمة من معنى</td>\n",
       "      <td>1.0</td>\n",
       "      <td>1.0</td>\n",
       "    </tr>\n",
       "  </tbody>\n",
       "</table>\n",
       "</div>"
      ],
      "text/plain": [
       "   key                                tweets  gt_type  pred_type\n",
       "0    1          انسان عبارة عن دواء للإكتئاب      1.0        1.0\n",
       "1    2      نحبك يا فنان وااااااحسااااااااان      1.0        1.0\n",
       "2    3           stream zuin thank you ilyas      1.0        1.0\n",
       "3    4  وحق الرب الى دوا د الاكتئاب الأسطورة      1.0        1.0\n",
       "4    5     اسطورة بكل ما تحمل الكلمة من معنى      1.0        1.0"
      ]
     },
     "execution_count": 10,
     "metadata": {},
     "output_type": "execute_result"
    }
   ],
   "source": [
    "df.head()"
   ]
  },
  {
   "cell_type": "code",
   "execution_count": 11,
   "metadata": {},
   "outputs": [
    {
     "data": {
      "image/png": "[encoded data removed]",
      "text/plain": [
       "<Figure size 400x400 with 1 Axes>"
      ]
     },
     "metadata": {},
     "output_type": "display_data"
    }
   ],
   "source": [
    "from src.utils.visualizers import visualize_frequencies\n",
    "\n",
    "\n",
    "visualize_frequencies(df, 'gt_type')"
   ]
  },
  {
   "cell_type": "markdown",
   "metadata": {},
   "source": [
    "## Evaluation & Visualization"
   ]
  },
  {
   "cell_type": "markdown",
   "metadata": {},
   "source": [
    "### 1- Across All Dataset with averaging for types(pos., neg., neutral)"
   ]
  },
  {
   "cell_type": "code",
   "execution_count": 12,
   "metadata": {},
   "outputs": [
    {
     "data": {
      "text/plain": [
       "{'accuracy': 0.6246895181321411,\n",
       " 'precision': 0.6229186267514475,\n",
       " 'recall': 0.6223057824032099,\n",
       " 'f1': 0.6225822429816866,\n",
       " 'conf_matrix': array([[5656, 2962],\n",
       "        [3073, 4404]], dtype=int64),\n",
       " 'class_report': '              precision    recall  f1-score   support\\n\\n           0       0.65      0.66      0.65      8623\\n           1       0.60      0.59      0.59      7481\\n\\n   micro avg       0.63      0.62      0.62     16104\\n   macro avg       0.62      0.62      0.62     16104\\nweighted avg       0.62      0.62      0.62     16104\\n'}"
      ]
     },
     "execution_count": 12,
     "metadata": {},
     "output_type": "execute_result"
    }
   ],
   "source": [
    "evaluator = MYCEvaluator(df, averaging = \"macro\") \n",
    "# we don't have class name of MYC dataset(standard or dialectical)\n",
    "\n",
    "# visualizor\n",
    "visualisor = MYCVisualizer(evaluator)\n",
    "\n",
    "evaluator()"
   ]
  },
  {
   "cell_type": "code",
   "execution_count": 13,
   "metadata": {},
   "outputs": [
    {
     "name": "stdout",
     "output_type": "stream",
     "text": [
      "- Accuracy: 0.6246895181321411\n",
      "- Precision: 0.6229186267514475\n",
      "- Recall: 0.6223057824032099\n",
      "- F1: 0.6225822429816866\n"
     ]
    }
   ],
   "source": [
    "accuracy = visualisor.visualize('accuracy')\n",
    "precision = visualisor.visualize('precision')\n",
    "recall = visualisor.visualize('recall')\n",
    "f1 = visualisor.visualize('f1')"
   ]
  },
  {
   "cell_type": "code",
   "execution_count": 16,
   "metadata": {},
   "outputs": [
    {
     "data": {
      "image/png": "[encoded data removed]",
      "text/plain": [
       "<Figure size 800x600 with 2 Axes>"
      ]
     },
     "metadata": {},
     "output_type": "display_data"
    }
   ],
   "source": [
    "visualisor.show_cfm()"
   ]
  }
 ],
 "metadata": {
  "kernelspec": {
   "display_name": "Python 3 (ipykernel)",
   "language": "python",
   "name": "python3"
  },
  "language_info": {
   "codemirror_mode": {
    "name": "ipython",
    "version": 3
   },
   "file_extension": ".py",
   "mimetype": "text/x-python",
   "name": "python",
   "nbconvert_exporter": "python",
   "pygments_lexer": "ipython3",
   "version": "3.11.8"
  }
 },
 "nbformat": 4,
 "nbformat_minor": 4
}
